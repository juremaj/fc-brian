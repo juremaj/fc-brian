{
 "cells": [
  {
   "cell_type": "code",
   "execution_count": 66,
   "id": "5f2c0adc-7e3d-44e5-87af-831583cd0579",
   "metadata": {},
   "outputs": [],
   "source": [
    "import numpy as np\n",
    "import scipy.sparse as sps\n",
    "\n",
    "import matplotlib.pyplot as plt\n",
    "from pyglmnet import GLM, simulate_glm"
   ]
  },
  {
   "cell_type": "code",
   "execution_count": 67,
   "id": "2d7a25ad-9811-42b0-8550-a137af925c49",
   "metadata": {},
   "outputs": [],
   "source": [
    "# n_samples, n_features = 1000, 100\n",
    "# distr = 'poisson'\n",
    "\n",
    "# # sample a sparse model\n",
    "# np.random.seed(42)\n",
    "# beta0 = np.random.rand()\n",
    "# beta = sps.random(1, n_features, density=0.2).toarray()[0]\n",
    "\n",
    "# # simulate data\n",
    "# Xtrain = np.random.normal(0.0, 1.0, [n_samples, n_features])\n",
    "# ytrain = simulate_glm('poisson', beta0, beta, Xtrain)\n",
    "# Xtest = np.random.normal(0.0, 1.0, [n_samples, n_features])\n",
    "# ytest = simulate_glm('poisson', beta0, beta, Xtest)"
   ]
  },
  {
   "cell_type": "code",
   "execution_count": 128,
   "id": "ddae4464-17c4-4409-9da5-2897cd0a4e1f",
   "metadata": {},
   "outputs": [],
   "source": [
    "# import saved data\n",
    "loaded = np.load('data/20220331_214047_sim_data.npy', allow_pickle=True).tolist()\n",
    "data = loaded['sts_binned']"
   ]
  },
  {
   "cell_type": "code",
   "execution_count": 129,
   "id": "54330d0c-0a8d-4dc2-bd94-1194530a570d",
   "metadata": {},
   "outputs": [
    {
     "data": {
      "text/plain": [
       "(100, 1200000)"
      ]
     },
     "execution_count": 129,
     "metadata": {},
     "output_type": "execute_result"
    }
   ],
   "source": [
    "data.shape"
   ]
  },
  {
   "cell_type": "code",
   "execution_count": 130,
   "id": "7a7beee0-9dc5-4590-9841-e94d02b040a8",
   "metadata": {},
   "outputs": [],
   "source": [
    "data_train = data[:, :1000000]\n",
    "data_test = data[:, 1000000:]\n"
   ]
  },
  {
   "cell_type": "code",
   "execution_count": 131,
   "id": "3ad4c999-4f9d-4e27-a316-0a0a314add52",
   "metadata": {},
   "outputs": [],
   "source": [
    "# fitting glm for zeroth neuron\n",
    "\n",
    "x_train = data_train[1:,:-1].T\n",
    "y_train = data_train[0,1:]\n",
    "\n",
    "x_test = data_test[1:,:-1].T\n",
    "y_test = data_test[0,1:]"
   ]
  },
  {
   "cell_type": "code",
   "execution_count": 132,
   "id": "4e364af9-3df5-49b8-8dd5-5e8f516b0f32",
   "metadata": {},
   "outputs": [
    {
     "data": {
      "text/plain": [
       "(199999,)"
      ]
     },
     "execution_count": 132,
     "metadata": {},
     "output_type": "execute_result"
    }
   ],
   "source": [
    "y_test.shape"
   ]
  },
  {
   "cell_type": "code",
   "execution_count": 134,
   "id": "4f8a45d7-7fad-4ae0-8275-f3b80e1fe487",
   "metadata": {},
   "outputs": [
    {
     "name": "stdout",
     "output_type": "stream",
     "text": [
      "Pseudo R^2 is -0.030\n"
     ]
    }
   ],
   "source": [
    "# create an instance of the GLM class\n",
    "glm = GLM(distr='poisson', score_metric='pseudo_R2', reg_lambda=0.01)\n",
    "\n",
    "# fit the model on the training data\n",
    "glm.fit(x_train, y_train)\n",
    "\n",
    "# predict using fitted model on the test data\n",
    "yhat = glm.predict(x_test)\n",
    "\n",
    "# score the model on test data\n",
    "pseudo_R2 = glm.score(x_test, y_test)\n",
    "print('Pseudo R^2 is %.3f' % pseudo_R2)"
   ]
  },
  {
   "cell_type": "code",
   "execution_count": null,
   "id": "c88d428b-290e-454d-bbdc-ee41c757790f",
   "metadata": {},
   "outputs": [],
   "source": []
  }
 ],
 "metadata": {
  "kernelspec": {
   "display_name": "Python 3 (ipykernel)",
   "language": "python",
   "name": "python3"
  },
  "language_info": {
   "codemirror_mode": {
    "name": "ipython",
    "version": 3
   },
   "file_extension": ".py",
   "mimetype": "text/x-python",
   "name": "python",
   "nbconvert_exporter": "python",
   "pygments_lexer": "ipython3",
   "version": "3.10.4"
  }
 },
 "nbformat": 4,
 "nbformat_minor": 5
}
