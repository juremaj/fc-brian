{
 "cells": [
  {
   "cell_type": "markdown",
   "id": "4da69c9f-90f6-4e8a-aa1d-7ef032633ad7",
   "metadata": {},
   "source": [
    "## Simulating data to benchmark FC algorithms"
   ]
  },
  {
   "cell_type": "code",
   "execution_count": 1,
   "id": "82c3ccc6-82c2-43d4-b257-fd5f0b1c9eb6",
   "metadata": {},
   "outputs": [],
   "source": [
    "from brian2 import *\n",
    "import matplotlib.pyplot as plt\n",
    "import numpy as np\n",
    "from scipy.io import savemat, loadmat\n",
    "from scipy.stats import linregress\n",
    "import os\n",
    "import networkx as nx"
   ]
  },
  {
   "cell_type": "code",
   "execution_count": 2,
   "id": "da1ac2a8-9435-4ffa-bcee-2b9ffa11bf2d",
   "metadata": {},
   "outputs": [],
   "source": [
    "# defining parameters\n",
    "\n",
    "# general\n",
    "identifier='sim09_2022-04-19_r1'\n",
    "# standardised format \n",
    "    #'sim##_YYYY_MM_DD_r#'; \n",
    "        #'sim##' is incremented for a different network instantiation, \n",
    "        #'r#' is incrememnted for different simulations of same network instantiation\n",
    "\n",
    "# topology\n",
    "top = 'rand' # 'rand' (random) or 'sfree' (scale-free)\n",
    "N = 1000 # neurons\n",
    "#p_connect = 0.005 if top == 'rand' else print('') # (for 'rand') synnaptic connection probability\n",
    "p_connect = 0.005 if top == 'rand' else print('') # (for 'rand') synnaptic connection probability\n",
    "sfg_seed = 42 # (for 'sfree') seed for generating scale free graph\n",
    "\n",
    "# dynamics\n",
    "sig = 0.08 # independent noise\n",
    "threshold = 1 \n",
    "reset = 0.9 # reset value after a spike initiation\n",
    "refractory = 2*ms # absolute refracotry period\n",
    "rest_pot_I = 0.9 # steady state value for membrane dynamics ('resting potential')\n",
    "mem_tau = 10*ms # membrane time constant\n",
    "syn_w = 0.025 # synaptic weight\n",
    "syn_dt = 1*ms # synaptic delay\n",
    "\n",
    "# time\n",
    "run_for = 1800 # 1800 ('30 minutes')\n",
    "imaging_rate = 30 # for binning data"
   ]
  },
  {
   "cell_type": "code",
   "execution_count": 3,
   "id": "ea47a24e-e6cf-43ef-afcf-443d8a100e17",
   "metadata": {},
   "outputs": [],
   "source": [
    "t_stamp =  str(np.datetime64('now')).replace('-','').replace('T','_').replace(':', '') # for saving\n",
    "\n",
    "save_path = os.getcwd() + '/data' # path to general ('ani' and 'sim') data folder\n",
    "fig_path = f'{save_path}/{identifier}/sim_figures' # path to general ('ani' and 'sim') data folder\n",
    "\n",
    "os.makedirs(f'{save_path}/{identifier}/', exist_ok=True)\n",
    "os.makedirs(fig_path, exist_ok=True)"
   ]
  },
  {
   "cell_type": "code",
   "execution_count": null,
   "id": "fd3291c0-ebcf-4570-89b5-582ee300bf51",
   "metadata": {},
   "outputs": [
    {
     "name": "stdout",
     "output_type": "stream",
     "text": [
      "Starting simulation at t=0. s for a duration of 1.8 ks\n",
      "11.1941 s (0%) simulated in 10s, estimated 26m 38s remaining.\n",
      "22.7993 s (1%) simulated in 20s, estimated 25m 59s remaining.\n",
      "33.1861 s (1%) simulated in 30s, estimated 26m 37s remaining.\n",
      "44.2355 s (2%) simulated in 40s, estimated 26m 28s remaining.\n",
      "54.0285 s (3%) simulated in 50s, estimated 26m 56s remaining.\n",
      "62.0572 s (3%) simulated in 1m 0s, estimated 28m 0s remaining.\n",
      "72.6658 s (4%) simulated in 1m 10s, estimated 27m 44s remaining.\n",
      "84.4884 s (4%) simulated in 1m 20s, estimated 27m 4s remaining.\n",
      "96.3569 s (5%) simulated in 1m 30s, estimated 26m 31s remaining.\n",
      "108.2248 s (6%) simulated in 1m 40s, estimated 26m 3s remaining.\n",
      "119.965 s (6%) simulated in 1m 50s, estimated 25m 41s remaining.\n",
      "131.4616 s (7%) simulated in 2m 0s, estimated 25m 23s remaining.\n",
      "140.8805 s (7%) simulated in 2m 10s, estimated 25m 31s remaining.\n",
      "151.5321 s (8%) simulated in 2m 20s, estimated 25m 23s remaining.\n",
      "162.7155 s (9%) simulated in 2m 30s, estimated 25m 9s remaining.\n",
      "172.9996 s (9%) simulated in 2m 40s, estimated 25m 5s remaining.\n",
      "183.6792 s (10%) simulated in 2m 50s, estimated 24m 56s remaining.\n",
      "195.1246 s (10%) simulated in 3m 0s, estimated 24m 41s remaining.\n",
      "206.4201 s (11%) simulated in 3m 10s, estimated 24m 27s remaining.\n",
      "217.9891 s (12%) simulated in 3m 20s, estimated 24m 12s remaining.\n",
      "229.8841 s (12%) simulated in 3m 30s, estimated 23m 54s remaining.\n",
      "241.7387 s (13%) simulated in 3m 40s, estimated 23m 38s remaining.\n"
     ]
    }
   ],
   "source": [
    "# define neurons and connectivity\n",
    "\n",
    "start_scope()\n",
    "\n",
    "eqs = '''\n",
    "dv/dt = (I-v)/tau + sig*xi*tau**-0.5: 1\n",
    "I : 1\n",
    "tau : second\n",
    "'''\n",
    "\n",
    "G = NeuronGroup(N, eqs, threshold=f'v>{threshold}', reset=f'v = {reset}', refractory=refractory, method='euler')\n",
    "G.I = rest_pot_I\n",
    "G.tau = mem_tau #originally 10\n",
    "S = Synapses(G, G, on_pre=f'v_post += {syn_w}', delay=syn_dt)\n",
    "\n",
    "if top == 'rand':\n",
    "    \n",
    "    # connecting randomly\n",
    "    S.connect(condition='i!=j', p=p_connect)\n",
    "\n",
    "elif top == 'sfree':\n",
    "    \n",
    "    # getting scale free network\n",
    "    sf_graph = nx.scale_free_graph(N, seed=sfg_seed)\n",
    "    adj = nx.adjacency_matrix(sf_graph).toarray()\n",
    "    np.fill_diagonal(adj, 0) # this will somewhat alter scale-free topology\n",
    "    adj_bin = np.copy(adj) \n",
    "    adj_bin[adj_bin>=1]=1\n",
    "    syns = np.nonzero(adj_bin) # sparse matrix format expected by brian\n",
    "    \n",
    "    # connecting scale-freely\n",
    "    S.connect(i=syns[1],j=syns[0]) # hmmm - here think which are the incoming and which the outgoing\n",
    "\n",
    "# run experiment\n",
    "spikemon = SpikeMonitor(G)\n",
    "\n",
    "run(run_for*second, report='stdout', report_period=10*second)"
   ]
  },
  {
   "cell_type": "code",
   "execution_count": null,
   "id": "9178803a-e4fc-4ee7-9dbc-21e7ddfe9447",
   "metadata": {},
   "outputs": [],
   "source": [
    "# visualise connectivity\n",
    "plt.figure(figsize=(10,10))\n",
    "plt.scatter(S.i, S.j, s=1, c='k')\n",
    "plt.ylabel('post-synaptic neuron')\n",
    "plt.xlabel('pre-synaptic neuron')\n",
    "plt.savefig(f'{fig_path}/{t_stamp}_ground_truth.png')"
   ]
  },
  {
   "cell_type": "code",
   "execution_count": null,
   "id": "8760f020-545b-448d-beef-54b8b215951c",
   "metadata": {},
   "outputs": [],
   "source": [
    "# computing degrees and fit on linear-linear plot\n",
    "degrees=[]\n",
    "for k in range(1000):\n",
    "    degrees.append(np.sum(S.i==k) + np.sum(S.j==k))\n",
    "    \n",
    "x_loglog = np.log10(np.arange(1,len(degrees)+1))\n",
    "y_loglog = np.log10(np.flip(np.sort(degrees)))#+0.000001)\n",
    "coeffs = linregress(x_loglog, y_loglog) # linear fit"
   ]
  },
  {
   "cell_type": "code",
   "execution_count": null,
   "id": "abc86048-86fc-431b-8e0b-e6be38b4e73a",
   "metadata": {},
   "outputs": [],
   "source": [
    "\n",
    "plt.figure(figsize=(10,10))\n",
    "plt.plot(x_loglog, y_loglog, label='log-log degrees')\n",
    "plt.scatter(x_loglog, y_loglog, label='log-log degrees', s=5)\n",
    "plt.plot(x_loglog, coeffs[0]*x_loglog + coeffs[1], '--',c='grey', label='linear fit')\n",
    "plt.xlabel('log(degree)')\n",
    "plt.ylabel('log(number of notes)')\n",
    "plt.legend()\n",
    "plt.savefig(f'{fig_path}/{t_stamp}_loglog_degree.png')"
   ]
  },
  {
   "cell_type": "code",
   "execution_count": null,
   "id": "0410fa5c-6631-4482-96bc-979975a60f99",
   "metadata": {},
   "outputs": [],
   "source": [
    "# binning at a particular imaging rate (binarised raster) and getting correlation matrix\n",
    "n_neurons = N\n",
    "all_hist = np.zeros((n_neurons, run_for*imaging_rate))\n",
    "for n in range(n_neurons):\n",
    "    all_hist[n,:] = np.histogram(spikemon.t[spikemon.i==n], bins=np.arange(0,run_for+0.0001,1/imaging_rate))[0]\n",
    "    #all_hist.append(n_hist[0])\n",
    "\n",
    "corr_mat = np.corrcoef(all_hist)\n",
    "#adding zeros to diagonal (no self-connections) - for better visualisation\n",
    "np.fill_diagonal(corr_mat, 0)"
   ]
  },
  {
   "cell_type": "code",
   "execution_count": null,
   "id": "10836670-950f-4079-a8a6-abdd065ecf63",
   "metadata": {},
   "outputs": [],
   "source": [
    "# exporting simulated data to compare different FC inference techniques\n",
    "\n",
    "sim_data = {'syn_i': np.copy(S.i),\n",
    "            'syn_j': np.copy(S.j),\n",
    "           'st': np.copy(spikemon.t),\n",
    "           'si': np.copy(spikemon.i),\n",
    "           'imaging_rate': imaging_rate,\n",
    "           'sts_binned': all_hist,\n",
    "           'corr_mat': corr_mat}\n",
    "\n",
    "np.save(f'{save_path}/{identifier}/{identifier}.npy', sim_data)\n",
    "savemat(f'{save_path}/{identifier}/{identifier}.mat', sim_data)"
   ]
  },
  {
   "cell_type": "markdown",
   "id": "2d1134b2-4e9b-48bd-9241-6ed17e72df01",
   "metadata": {},
   "source": [
    "## Plotting everything"
   ]
  },
  {
   "cell_type": "code",
   "execution_count": null,
   "id": "773e3fad-6b77-47cf-b949-ef105915b788",
   "metadata": {},
   "outputs": [],
   "source": [
    "# plot spike times for each neuron (true raster)\n",
    "xlim = [0, 1000]\n",
    "plt.figure(figsize=(20, 8), dpi=1000)\n",
    "plt.scatter(spikemon.t[spikemon.i<1000]/ms-1000, spikemon.i[spikemon.i<1000], s=0.1, c='k') # t is spike time, i is neuron id\n",
    "plt.xlabel('Time (ms)')\n",
    "plt.ylabel('Neuron index')\n",
    "plt.title(f'Spiking activity ({(xlim[1]-xlim[0])/1e3} seconds)')\n",
    "plt.xlim(xlim)\n",
    "plt.savefig(f'{fig_path}/{t_stamp}_spiking_data.png')"
   ]
  },
  {
   "cell_type": "code",
   "execution_count": null,
   "id": "a9266d25-4731-4654-a9ec-09b7635bc869",
   "metadata": {},
   "outputs": [],
   "source": [
    "all_hist_zscore = (all_hist - np.mean(all_hist,1)[:,np.newaxis])/np.std(all_hist,1)[:,np.newaxis]"
   ]
  },
  {
   "cell_type": "code",
   "execution_count": null,
   "id": "e5a4d229-d37e-4b99-9c25-aec603a07250",
   "metadata": {},
   "outputs": [],
   "source": [
    "_, axs = plt.subplots(2, 1, figsize=(20,8), dpi = 200, gridspec_kw={'height_ratios': [3, 1]})\n",
    "\n",
    "axs[0].imshow(all_hist_zscore[:,:3000], cmap='binary', interpolation='nearest', aspect='auto', vmin=0, vmax=5) # log colorscale\n",
    "axs[0].xaxis.set_visible(False)\n",
    "axs[0].set_ylabel('roi id')\n",
    "\n",
    "\n",
    "axs[1].plot(np.mean(all_hist_zscore[:,:3000], axis=0), label='avg')\n",
    "axs[1].set_xlim((0, all_hist_zscore[:,:3000].shape[1]))\n",
    "axs[1].set_ylabel('avg.')\n",
    "axs[1].set_xlabel('time (stamps)')\n",
    "\n",
    "plt.savefig(f'{fig_path}/{t_stamp}_binned_30.png')"
   ]
  },
  {
   "cell_type": "code",
   "execution_count": null,
   "id": "1d1ffefd-2ff5-4df1-94e2-a26d5c1c7669",
   "metadata": {},
   "outputs": [],
   "source": [
    "# plot histogram at a particular imaging rate\n",
    "plt.figure(figsize=(10, 4), dpi=1000)\n",
    "plt.imshow(all_hist[:,:5000], vmax=5, cmap='Greys')\n",
    "plt.savefig(f'{fig_path}/{t_stamp}_binned_30.png')\n",
    "plt.axis('off')"
   ]
  },
  {
   "cell_type": "markdown",
   "id": "de6d2cb1-9460-4672-bc19-857dd04a599f",
   "metadata": {},
   "source": [
    "### Connectivity inference using correlation matrix"
   ]
  },
  {
   "cell_type": "code",
   "execution_count": null,
   "id": "9ce9b54c-ba4a-4080-8473-d441989ea42d",
   "metadata": {},
   "outputs": [],
   "source": [
    "# THIS IS WITHOUT BINARISING but with binning + adding zeros on diagonal\n",
    "#plotting\n",
    "plt.figure(figsize=(10, 4), dpi=1000)\n",
    "plt.imshow(corr_mat, cmap='binary')\n",
    "plt.colorbar()\n",
    "plt.scatter(S.i, S.j, s=0.01, facecolors=None, edgecolors='C3', marker='X')\n",
    "plt.savefig(f'{fig_path}/{t_stamp}_emp_vs_gt_directed.png')"
   ]
  },
  {
   "cell_type": "code",
   "execution_count": null,
   "id": "7d08a146-286a-4619-92f2-bdfe1712f8eb",
   "metadata": {},
   "outputs": [],
   "source": [
    "plt.figure(figsize=(10, 4), dpi=1000)\n",
    "plt.imshow(corr_mat, cmap='binary')\n",
    "plt.scatter(S.i, S.j, s=0.01, facecolors=None, edgecolors='C3', marker='X')\n",
    "plt.scatter(S.j, S.i, s=0.01, facecolors=None, edgecolors='C3', marker='X')\n",
    "plt.savefig(f'{fig_path}/{t_stamp}_emp_vs_gt_undirected.png')"
   ]
  },
  {
   "cell_type": "code",
   "execution_count": null,
   "id": "5e6aa14d-cafb-4869-bd49-5dc9f51cf25f",
   "metadata": {},
   "outputs": [],
   "source": []
  }
 ],
 "metadata": {
  "kernelspec": {
   "display_name": "Python 3 (ipykernel)",
   "language": "python",
   "name": "python3"
  },
  "language_info": {
   "codemirror_mode": {
    "name": "ipython",
    "version": 3
   },
   "file_extension": ".py",
   "mimetype": "text/x-python",
   "name": "python",
   "nbconvert_exporter": "python",
   "pygments_lexer": "ipython3",
   "version": "3.10.5"
  }
 },
 "nbformat": 4,
 "nbformat_minor": 5
}
